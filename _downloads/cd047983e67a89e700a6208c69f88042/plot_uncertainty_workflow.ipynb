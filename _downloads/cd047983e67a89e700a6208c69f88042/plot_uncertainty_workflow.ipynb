{
  "cells": [
    {
      "cell_type": "markdown",
      "metadata": {},
      "source": [
        "\n# Example for uncertain variables collection\n\n.. sectionauthor:: Max J\u00e4schke (HTWK Leipzig)\n"
      ]
    },
    {
      "cell_type": "markdown",
      "metadata": {},
      "source": [
        "Import the needed packages and the distributions from scipy.stats\n\n"
      ]
    },
    {
      "cell_type": "code",
      "execution_count": null,
      "metadata": {
        "collapsed": false
      },
      "outputs": [],
      "source": [
        "from pathlib import Path\nfrom tempfile import mkdtemp\n\nimport matplotlib.pyplot as plt\nimport numpy as np\nfrom scipy.stats import norm, skewnorm\n\nfrom easyquart.uncertainty import (\n    UncertainVariable,\n    UncertainVariableCollection,\n)"
      ]
    },
    {
      "cell_type": "markdown",
      "metadata": {},
      "source": [
        "Create a collection of uncertain variables and add variables\n\n"
      ]
    },
    {
      "cell_type": "code",
      "execution_count": null,
      "metadata": {
        "collapsed": false
      },
      "outputs": [],
      "source": [
        "collection = UncertainVariableCollection()\n\ncollection.add_variable(\n    UncertainVariable(\n        name=\"Soil Conductivity\",\n        distribution=skewnorm(loc=2, scale=1, a=1.5),\n        unit=r\"$\\lambda$ in W/m*K\",\n        description=\"skewnorm distribution of the soil conductivity\",\n    )\n)\n\ncollection.add_variable(\n    UncertainVariable(\n        name=\"Geothermal Heat Flux\",\n        distribution=norm(loc=0.078, scale=0.014),\n        unit=r\"$\\dot{q}$ in $W/m^2$\",\n        description=\"geothermal heat flux from the earth\",\n    )\n)\n\ncollection.add_variable(\n    UncertainVariable(\n        name=\"Soil Volumetric Heat Capacity\",\n        distribution=norm(loc=2e6, scale=0.45e6),\n        unit=r\"$\\rho \\cdot c_p$ in J/kg*K\",\n        description=\"volumetric heat capacity of the soil\",\n    )\n)\n\ncollection.add_variable(\n    UncertainVariable(\n        name=\"Grout Conductivity\",\n        distribution=skewnorm(loc=1.5, scale=0.8, a=3),\n        unit=r\"$\\lambda$ in W/m*K\",\n        description=\"skewnorm distribution of the grout conductivity\",\n    )\n)\n\nprint(collection.list_variables())"
      ]
    },
    {
      "cell_type": "markdown",
      "metadata": {},
      "source": [
        "Save the collection as a json-file\n\n"
      ]
    },
    {
      "cell_type": "code",
      "execution_count": null,
      "metadata": {
        "collapsed": false
      },
      "outputs": [],
      "source": [
        "tmp_dir = Path(mkdtemp())\njson_file = tmp_dir / \"uncertain_variables.json\"\ncollection.to_json(json_file)"
      ]
    },
    {
      "cell_type": "markdown",
      "metadata": {},
      "source": [
        "Load the variables from the json to a new uncertain variable collection\n\n"
      ]
    },
    {
      "cell_type": "code",
      "execution_count": null,
      "metadata": {
        "collapsed": false
      },
      "outputs": [],
      "source": [
        "uncertain_variables = UncertainVariableCollection()\nuncertain_variables.from_json(json_file)\n\nall_variables = uncertain_variables.list_variables()\nprint(all_variables)"
      ]
    },
    {
      "cell_type": "markdown",
      "metadata": {},
      "source": [
        "Plot the distributions\n\n"
      ]
    },
    {
      "cell_type": "code",
      "execution_count": null,
      "metadata": {
        "collapsed": false
      },
      "outputs": [],
      "source": [
        "fig, ax = plt.subplots(2, 2, figsize=(10, 6), constrained_layout=True)\n\nfor i, var in enumerate(all_variables):\n    variable = uncertain_variables.get_variable(var)\n    x_min, x_max = variable.distribution.ppf([0.00001, 0.99999])\n    x = np.linspace(x_min, x_max, 10000)\n    ax[i % 2, int(i / 2)].plot(x, variable.distribution.pdf(x))\n    ax[i % 2, int(i / 2)].set_title(var)\n    ax[i % 2, int(i / 2)].set_xlabel(variable.unit)\n    ax[i % 2, int(i / 2)].set_ylabel(r\"$f_p (x)$\")\n    ax[i % 2, int(i / 2)].grid(True, alpha=0.3)\n\nfig.show()"
      ]
    },
    {
      "cell_type": "markdown",
      "metadata": {},
      "source": [
        "Perform the sampling and add the sample points to the distribution plot\n\n"
      ]
    },
    {
      "cell_type": "code",
      "execution_count": null,
      "metadata": {
        "collapsed": false
      },
      "outputs": [],
      "source": [
        "uncertain_variables.latin_hypercube_sampling(n_samples=5)\n\nfig, ax = plt.subplots(2, 2, figsize=(10, 6), constrained_layout=True)\nfor i, var in enumerate(all_variables):\n    variable = uncertain_variables.get_variable(var)\n    x_min, x_max = variable.distribution.ppf([0.00001, 0.99999])\n    x = np.linspace(x_min, x_max, 10000)\n    ax[i % 2, int(i / 2)].plot(x, variable.distribution.pdf(x))\n    ax[i % 2, int(i / 2)].set_title(var)\n    ax[i % 2, int(i / 2)].set_xlabel(variable.unit)\n    ax[i % 2, int(i / 2)].set_ylabel(r\"$f_p (x)$\")\n    ax[i % 2, int(i / 2)].grid(True, alpha=0.3)\n    variable = uncertain_variables.get_variable(var)\n    ax[i % 2, int(i / 2)].scatter(\n        variable.samples, variable.distribution.pdf(variable.samples), color=\"r\"\n    )\n    for j, sample in enumerate(variable.samples):\n        shiftx = 0.90 if sample < variable.distribution.mean() else 1.02\n        shifty = 1.02\n        ax[i % 2, int(i / 2)].annotate(\n            f\"{j}\",\n            (sample * shiftx, variable.distribution.pdf(sample) * shifty),\n        )\n\nfig.show()"
      ]
    }
  ],
  "metadata": {
    "kernelspec": {
      "display_name": "Python 3",
      "language": "python",
      "name": "python3"
    },
    "language_info": {
      "codemirror_mode": {
        "name": "ipython",
        "version": 3
      },
      "file_extension": ".py",
      "mimetype": "text/x-python",
      "name": "python",
      "nbconvert_exporter": "python",
      "pygments_lexer": "ipython3",
      "version": "3.13.2"
    }
  },
  "nbformat": 4,
  "nbformat_minor": 0
}