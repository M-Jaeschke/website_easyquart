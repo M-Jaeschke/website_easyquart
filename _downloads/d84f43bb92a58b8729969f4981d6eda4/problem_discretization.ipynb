{
  "cells": [
    {
      "cell_type": "markdown",
      "metadata": {},
      "source": [
        "\n# Discretization of the defined area.\n\n.. sectionauthor: Pauline Werner (HTWK Leipzig)\n\nFirst, some minimal example usage:\n"
      ]
    },
    {
      "cell_type": "markdown",
      "metadata": {},
      "source": [
        "Import necessary python packages and functions\n\n"
      ]
    },
    {
      "cell_type": "code",
      "execution_count": null,
      "metadata": {
        "collapsed": false
      },
      "outputs": [],
      "source": [
        "import matplotlib.pyplot as plt\nimport pandas as pd\nfrom shapely.geometry import Polygon\n\nfrom easyquart.bhe_optimization.core.area import Area\nfrom easyquart.bhe_optimization.core.obstacle import House"
      ]
    },
    {
      "cell_type": "markdown",
      "metadata": {},
      "source": [
        "Defining the area as a shapely Polygon with a buffer\n\n"
      ]
    },
    {
      "cell_type": "code",
      "execution_count": null,
      "metadata": {
        "collapsed": false
      },
      "outputs": [],
      "source": [
        "area_polygon = Polygon([(0, 0), (5, 0), (5, 6), (0, 6)])\nd_buffer = 1.0  # Shrinking buffer of 0.5 m"
      ]
    },
    {
      "cell_type": "markdown",
      "metadata": {},
      "source": [
        "Creating obstacles as instances of House, Tree or Undefined\n\n"
      ]
    },
    {
      "cell_type": "code",
      "execution_count": null,
      "metadata": {
        "collapsed": false
      },
      "outputs": [],
      "source": [
        "obstacles = [\n    House(Polygon([(3, 4), (5, 4), (5, 6), (3, 6)])),  # House obstacle\n]"
      ]
    },
    {
      "cell_type": "markdown",
      "metadata": {},
      "source": [
        "Create an Area instance with obstacles\n\n"
      ]
    },
    {
      "cell_type": "code",
      "execution_count": null,
      "metadata": {
        "collapsed": false
      },
      "outputs": [],
      "source": [
        "area = Area(area_polygon, d_buffer, obstacles)"
      ]
    },
    {
      "cell_type": "markdown",
      "metadata": {},
      "source": [
        "Generate valid points\n\n"
      ]
    },
    {
      "cell_type": "code",
      "execution_count": null,
      "metadata": {
        "collapsed": false
      },
      "outputs": [],
      "source": [
        "resolution_meter = 1.0\nvalid_points = area.generate_valid_points(resolution_meter)"
      ]
    },
    {
      "cell_type": "markdown",
      "metadata": {},
      "source": [
        "Convert valid points to Pandas DataFrame for better visualization\n\n"
      ]
    },
    {
      "cell_type": "code",
      "execution_count": null,
      "metadata": {
        "collapsed": false
      },
      "outputs": [],
      "source": [
        "df_valid_points = pd.DataFrame(\n    [(i, j, p.x, p.y) for i, j, p in valid_points],\n    columns=[\"x_index\", \"y_index\", \"x_coord\", \"y_coord\"],\n)\nprint(df_valid_points.to_string(index=False))"
      ]
    },
    {
      "cell_type": "markdown",
      "metadata": {},
      "source": [
        "Demonstration: Plotting the area, obstacles and valid points\n\n"
      ]
    },
    {
      "cell_type": "code",
      "execution_count": null,
      "metadata": {
        "collapsed": false
      },
      "outputs": [],
      "source": [
        "fig, ax = plt.subplots()\n\n# Plot original area\nx, y = area.polygon.exterior.xy\nax.plot(x, y, label=\"Original Area\", color=\"black\", linestyle=\"dashed\")\n\n# Plot buffered area\nx, y = area.buffered_polygon().exterior.xy\nax.plot(x, y, label=\"Buffered Area\", color=\"blue\")\n\n# Plot obstacles\nfor obs in obstacles:\n    x, y = obs.polygon.exterior.xy\n    ax.fill(x, y, color=\"red\", alpha=0.5, label=\"Obstacle\")\n\n# Extract x and y coordinates from indexed valid points and plot them\nx_valid = [p.x for _, _, p in valid_points]\ny_valid = [p.y for _, _, p in valid_points]\nax.scatter(x_valid, y_valid, color=\"green\", s=10, label=\"Valid Points\")\n\nax.set_aspect(\"equal\")\nplt.show()"
      ]
    }
  ],
  "metadata": {
    "kernelspec": {
      "display_name": "Python 3",
      "language": "python",
      "name": "python3"
    },
    "language_info": {
      "codemirror_mode": {
        "name": "ipython",
        "version": 3
      },
      "file_extension": ".py",
      "mimetype": "text/x-python",
      "name": "python",
      "nbconvert_exporter": "python",
      "pygments_lexer": "ipython3",
      "version": "3.13.2"
    }
  },
  "nbformat": 4,
  "nbformat_minor": 0
}