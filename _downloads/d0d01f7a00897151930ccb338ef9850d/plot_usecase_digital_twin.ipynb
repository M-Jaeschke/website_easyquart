{
  "cells": [
    {
      "cell_type": "markdown",
      "metadata": {},
      "source": [
        "\n# Example usage of the DigitalTwin Class\n\n.. sectionauthor: Max J\u00e4schke (HTWK Leipzig)\n"
      ]
    },
    {
      "cell_type": "markdown",
      "metadata": {},
      "source": [
        "Import the needed packages and the digital twin class\n\n"
      ]
    },
    {
      "cell_type": "code",
      "execution_count": null,
      "metadata": {
        "collapsed": false
      },
      "outputs": [],
      "source": [
        "from pathlib import Path\nfrom tempfile import mkdtemp\n\nimport matplotlib.pyplot as plt\nimport numpy as np\n\nfrom easyquart.digital_twin import DigitalTwinEasyQuart"
      ]
    },
    {
      "cell_type": "markdown",
      "metadata": {},
      "source": [
        "Define simple data arrays to demonstrate the showcase\n\n"
      ]
    },
    {
      "cell_type": "code",
      "execution_count": null,
      "metadata": {
        "collapsed": false
      },
      "outputs": [],
      "source": [
        "timevalues = np.linspace(start=0, stop=10, num=11)\nnetwork_flow_rate = np.full(11, 0.002)\nbuilding_power = np.full(11, 1000)\nbhe_to_network_temperatures = np.tile(np.array([273.15, 280.15]), 11)\nbhe_to_network_avg_temperature = np.full(11, 273.15)\nnetwork_to_bhe_temperatures = np.tile(np.array([273.15, 280.15]), 11)\nnetwork_to_bhe_avg_temperature = np.full(11, 273.15)\nnetwork_to_building_temperature = np.full(11, 273.15)\nbuilding_to_network_temperature = np.full(11, 273.15)"
      ]
    },
    {
      "cell_type": "markdown",
      "metadata": {},
      "source": [
        "Create class object with known values from the building and HVAC simulation and write to file\n\n"
      ]
    },
    {
      "cell_type": "code",
      "execution_count": null,
      "metadata": {
        "collapsed": false
      },
      "outputs": [],
      "source": [
        "tmp_dir = Path(mkdtemp())\nh5_file = tmp_dir / \"iter_0.h5\"\n\nbuilding_digital_twin = DigitalTwinEasyQuart(\n    rho_refrigerant=1000,\n    cp_refrigerant=4000.0,\n    timevalues=timevalues,\n    network_flow_rate=network_flow_rate,\n    networkToBuilding_temperature=network_to_building_temperature,\n    buildingToNetwork_temperature=building_to_network_temperature,\n    building_power=building_power,\n)\n\nbuilding_digital_twin.save_h5(h5_file)"
      ]
    },
    {
      "cell_type": "markdown",
      "metadata": {},
      "source": [
        "Load the data from file and use it e.g. for the network or subsurface simulation\n\n"
      ]
    },
    {
      "cell_type": "code",
      "execution_count": null,
      "metadata": {
        "collapsed": false
      },
      "outputs": [],
      "source": [
        "digital_twin_iter0 = DigitalTwinEasyQuart.load_h5(h5_file)\n\nmodelica_txt_file = tmp_dir / \"input_modelica.txt\"\ndigital_twin_iter0.write_dataclass_to_txt(\n    columns_to_write=[\n        \"timevalues\",\n        \"network_flow_rate\",\n        \"buildingToNetwork_temperature\",\n    ],\n    path_for_txt=modelica_txt_file,\n    table_name=\"network_input_from_building\",\n)"
      ]
    },
    {
      "cell_type": "markdown",
      "metadata": {},
      "source": [
        "Perform the network or subsurface simulation and store all results by overwriting file\n\n"
      ]
    },
    {
      "cell_type": "code",
      "execution_count": null,
      "metadata": {
        "collapsed": false
      },
      "outputs": [],
      "source": [
        "digital_twin_iter0.networkToBHE_avg_temperature = network_to_bhe_avg_temperature\ndigital_twin_iter0.networkToBHE_temperatures = network_to_bhe_temperatures\n\ndigital_twin_iter0.bheToNetwork_avg_temperature = bhe_to_network_avg_temperature\n\ndigital_twin_iter0.bheToNetwork_temperatures = bhe_to_network_temperatures\n\ndigital_twin_iter0.save_h5(h5_file)"
      ]
    },
    {
      "cell_type": "markdown",
      "metadata": {},
      "source": [
        "Use the results for plotting and further analysis\n\n"
      ]
    },
    {
      "cell_type": "code",
      "execution_count": null,
      "metadata": {
        "collapsed": false
      },
      "outputs": [],
      "source": [
        "plt.plot(\n    digital_twin_iter0.timevalues,\n    digital_twin_iter0.bheToNetwork_avg_temperature - 273.15,\n    label=\"BHEtoNetwork\",\n)\nplt.plot(\n    digital_twin_iter0.timevalues,\n    digital_twin_iter0.bheToNetwork_avg_temperature - 273.15,\n    label=\"NetworkToBHE\",\n)\nplt.ylabel(r\"$\\vartheta$ in \u00b0C\")\nplt.xlabel(\"t in s\")\nplt.show()"
      ]
    }
  ],
  "metadata": {
    "kernelspec": {
      "display_name": "Python 3",
      "language": "python",
      "name": "python3"
    },
    "language_info": {
      "codemirror_mode": {
        "name": "ipython",
        "version": 3
      },
      "file_extension": ".py",
      "mimetype": "text/x-python",
      "name": "python",
      "nbconvert_exporter": "python",
      "pygments_lexer": "ipython3",
      "version": "3.13.2"
    }
  },
  "nbformat": 4,
  "nbformat_minor": 0
}